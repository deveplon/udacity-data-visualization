{
 "cells": [
  {
   "cell_type": "markdown",
   "id": "underlying-receipt",
   "metadata": {},
   "source": [
    "# Multivariate\n",
    "\n",
    "## Non-Positional Encodings for Third Variable\n",
    "\n",
    "There are four major cases to consider when we want to plot three variables together:\n",
    "\n",
    "- three numeric variables\n",
    "- two numeric variables and one categorical variable\n",
    "- one numeric variable and two categorical variables\n",
    "- three categorical variables\n",
    "\n",
    "If we have at least two numeric variables, as in the first two cases, one common method for depicting the data is by using a scatterplot to encode two of the numeric variables, then using a non-positional encoding on the points to convey the value on the third variable, whether numeric or categorical.\n",
    "\n",
    "Three main non-positional encodings stand out: shape, size, and color. For Matplotlib and Seaborn, color is the easiest of these three encodings to apply for a third variable. Color can be used to encode both qualitative and quantitative data, with different types of color palettes used for different use cases."
   ]
  },
  {
   "cell_type": "markdown",
   "id": "banned-opinion",
   "metadata": {},
   "source": [
    "## Encoding via Shape\n",
    "\n",
    "Shape is a good encoding for categorical variables, using one shape for each level of the categorical variable. Unfortunately, there is no built-in way to automatically assign different shapes in a single call of the scatter or regplot function. Instead, we need to write a loop to call our plotting function multiple times, isolating data points by categorical level and setting a different \"marker\" argument value for each one."
   ]
  },
  {
   "cell_type": "markdown",
   "id": "third-granny",
   "metadata": {},
   "source": [
    "## Encoding via Size\n",
    "\n",
    "Point size is a good encoding for numeric variables. Usually, we want the numeric values to be proportional to the area of the point markers"
   ]
  },
  {
   "cell_type": "code",
   "execution_count": 1,
   "id": "alien-budget",
   "metadata": {},
   "outputs": [],
   "source": [
    "# Imports\n",
    "import numpy as np\n",
    "import pandas as pd\n",
    "import matplotlib.pyplot as plt\n",
    "import seaborn as sb\n",
    "\n",
    "%matplotlib inline"
   ]
  },
  {
   "cell_type": "code",
   "execution_count": 4,
   "id": "liked-plumbing",
   "metadata": {},
   "outputs": [],
   "source": [
    "fuel_econ = pd.read_csv('./data/fuel-econ.csv')\n",
    "\n",
    "sedan_classes = ['Minicompact Cars', 'Subcompact Cars', 'Compact Cars', 'Midsize Cars', 'Large Cars']\n",
    "vclasses = pd.api.types.CategoricalDtype(ordered=True, categories=sedan_classes)\n",
    "fuel_econ['VClass'] = fuel_econ['VClass'].astype(vclasses)\n",
    "\n",
    "fuel_econ['trans_type'] = fuel_econ['trans'].apply(lambda x: x.split()[0])"
   ]
  },
  {
   "cell_type": "code",
   "execution_count": 5,
   "id": "systematic-disney",
   "metadata": {},
   "outputs": [
    {
     "name": "stdout",
     "output_type": "stream",
     "text": [
      "(3929, 21)\n"
     ]
    },
    {
     "data": {
      "text/html": [
       "<div>\n",
       "<style scoped>\n",
       "    .dataframe tbody tr th:only-of-type {\n",
       "        vertical-align: middle;\n",
       "    }\n",
       "\n",
       "    .dataframe tbody tr th {\n",
       "        vertical-align: top;\n",
       "    }\n",
       "\n",
       "    .dataframe thead th {\n",
       "        text-align: right;\n",
       "    }\n",
       "</style>\n",
       "<table border=\"1\" class=\"dataframe\">\n",
       "  <thead>\n",
       "    <tr style=\"text-align: right;\">\n",
       "      <th></th>\n",
       "      <th>id</th>\n",
       "      <th>make</th>\n",
       "      <th>model</th>\n",
       "      <th>year</th>\n",
       "      <th>VClass</th>\n",
       "      <th>drive</th>\n",
       "      <th>trans</th>\n",
       "      <th>fuelType</th>\n",
       "      <th>cylinders</th>\n",
       "      <th>displ</th>\n",
       "      <th>...</th>\n",
       "      <th>pv4</th>\n",
       "      <th>city</th>\n",
       "      <th>UCity</th>\n",
       "      <th>highway</th>\n",
       "      <th>UHighway</th>\n",
       "      <th>comb</th>\n",
       "      <th>co2</th>\n",
       "      <th>feScore</th>\n",
       "      <th>ghgScore</th>\n",
       "      <th>trans_type</th>\n",
       "    </tr>\n",
       "  </thead>\n",
       "  <tbody>\n",
       "    <tr>\n",
       "      <th>0</th>\n",
       "      <td>32204</td>\n",
       "      <td>Nissan</td>\n",
       "      <td>GT-R</td>\n",
       "      <td>2013</td>\n",
       "      <td>Subcompact Cars</td>\n",
       "      <td>All-Wheel Drive</td>\n",
       "      <td>Automatic (AM6)</td>\n",
       "      <td>Premium Gasoline</td>\n",
       "      <td>6</td>\n",
       "      <td>3.8</td>\n",
       "      <td>...</td>\n",
       "      <td>0</td>\n",
       "      <td>16.4596</td>\n",
       "      <td>20.2988</td>\n",
       "      <td>22.5568</td>\n",
       "      <td>30.1798</td>\n",
       "      <td>18.7389</td>\n",
       "      <td>471</td>\n",
       "      <td>4</td>\n",
       "      <td>4</td>\n",
       "      <td>Automatic</td>\n",
       "    </tr>\n",
       "    <tr>\n",
       "      <th>1</th>\n",
       "      <td>32205</td>\n",
       "      <td>Volkswagen</td>\n",
       "      <td>CC</td>\n",
       "      <td>2013</td>\n",
       "      <td>Compact Cars</td>\n",
       "      <td>Front-Wheel Drive</td>\n",
       "      <td>Automatic (AM-S6)</td>\n",
       "      <td>Premium Gasoline</td>\n",
       "      <td>4</td>\n",
       "      <td>2.0</td>\n",
       "      <td>...</td>\n",
       "      <td>0</td>\n",
       "      <td>21.8706</td>\n",
       "      <td>26.9770</td>\n",
       "      <td>31.0367</td>\n",
       "      <td>42.4936</td>\n",
       "      <td>25.2227</td>\n",
       "      <td>349</td>\n",
       "      <td>6</td>\n",
       "      <td>6</td>\n",
       "      <td>Automatic</td>\n",
       "    </tr>\n",
       "    <tr>\n",
       "      <th>2</th>\n",
       "      <td>32206</td>\n",
       "      <td>Volkswagen</td>\n",
       "      <td>CC</td>\n",
       "      <td>2013</td>\n",
       "      <td>Compact Cars</td>\n",
       "      <td>Front-Wheel Drive</td>\n",
       "      <td>Automatic (S6)</td>\n",
       "      <td>Premium Gasoline</td>\n",
       "      <td>6</td>\n",
       "      <td>3.6</td>\n",
       "      <td>...</td>\n",
       "      <td>0</td>\n",
       "      <td>17.4935</td>\n",
       "      <td>21.2000</td>\n",
       "      <td>26.5716</td>\n",
       "      <td>35.1000</td>\n",
       "      <td>20.6716</td>\n",
       "      <td>429</td>\n",
       "      <td>5</td>\n",
       "      <td>5</td>\n",
       "      <td>Automatic</td>\n",
       "    </tr>\n",
       "    <tr>\n",
       "      <th>3</th>\n",
       "      <td>32207</td>\n",
       "      <td>Volkswagen</td>\n",
       "      <td>CC 4motion</td>\n",
       "      <td>2013</td>\n",
       "      <td>Compact Cars</td>\n",
       "      <td>All-Wheel Drive</td>\n",
       "      <td>Automatic (S6)</td>\n",
       "      <td>Premium Gasoline</td>\n",
       "      <td>6</td>\n",
       "      <td>3.6</td>\n",
       "      <td>...</td>\n",
       "      <td>0</td>\n",
       "      <td>16.9415</td>\n",
       "      <td>20.5000</td>\n",
       "      <td>25.2190</td>\n",
       "      <td>33.5000</td>\n",
       "      <td>19.8774</td>\n",
       "      <td>446</td>\n",
       "      <td>5</td>\n",
       "      <td>5</td>\n",
       "      <td>Automatic</td>\n",
       "    </tr>\n",
       "    <tr>\n",
       "      <th>4</th>\n",
       "      <td>32208</td>\n",
       "      <td>Chevrolet</td>\n",
       "      <td>Malibu eAssist</td>\n",
       "      <td>2013</td>\n",
       "      <td>Midsize Cars</td>\n",
       "      <td>Front-Wheel Drive</td>\n",
       "      <td>Automatic (S6)</td>\n",
       "      <td>Regular Gasoline</td>\n",
       "      <td>4</td>\n",
       "      <td>2.4</td>\n",
       "      <td>...</td>\n",
       "      <td>95</td>\n",
       "      <td>24.7726</td>\n",
       "      <td>31.9796</td>\n",
       "      <td>35.5340</td>\n",
       "      <td>51.8816</td>\n",
       "      <td>28.6813</td>\n",
       "      <td>310</td>\n",
       "      <td>8</td>\n",
       "      <td>8</td>\n",
       "      <td>Automatic</td>\n",
       "    </tr>\n",
       "    <tr>\n",
       "      <th>5</th>\n",
       "      <td>32209</td>\n",
       "      <td>Lexus</td>\n",
       "      <td>GS 350</td>\n",
       "      <td>2013</td>\n",
       "      <td>Midsize Cars</td>\n",
       "      <td>Rear-Wheel Drive</td>\n",
       "      <td>Automatic (S6)</td>\n",
       "      <td>Premium Gasoline</td>\n",
       "      <td>6</td>\n",
       "      <td>3.5</td>\n",
       "      <td>...</td>\n",
       "      <td>99</td>\n",
       "      <td>19.4325</td>\n",
       "      <td>24.1499</td>\n",
       "      <td>28.2234</td>\n",
       "      <td>38.5000</td>\n",
       "      <td>22.6002</td>\n",
       "      <td>393</td>\n",
       "      <td>6</td>\n",
       "      <td>6</td>\n",
       "      <td>Automatic</td>\n",
       "    </tr>\n",
       "  </tbody>\n",
       "</table>\n",
       "<p>6 rows × 21 columns</p>\n",
       "</div>"
      ],
      "text/plain": [
       "      id        make           model  year           VClass  \\\n",
       "0  32204      Nissan            GT-R  2013  Subcompact Cars   \n",
       "1  32205  Volkswagen              CC  2013     Compact Cars   \n",
       "2  32206  Volkswagen              CC  2013     Compact Cars   \n",
       "3  32207  Volkswagen      CC 4motion  2013     Compact Cars   \n",
       "4  32208   Chevrolet  Malibu eAssist  2013     Midsize Cars   \n",
       "5  32209       Lexus          GS 350  2013     Midsize Cars   \n",
       "\n",
       "               drive              trans          fuelType  cylinders  displ  \\\n",
       "0    All-Wheel Drive    Automatic (AM6)  Premium Gasoline          6    3.8   \n",
       "1  Front-Wheel Drive  Automatic (AM-S6)  Premium Gasoline          4    2.0   \n",
       "2  Front-Wheel Drive     Automatic (S6)  Premium Gasoline          6    3.6   \n",
       "3    All-Wheel Drive     Automatic (S6)  Premium Gasoline          6    3.6   \n",
       "4  Front-Wheel Drive     Automatic (S6)  Regular Gasoline          4    2.4   \n",
       "5   Rear-Wheel Drive     Automatic (S6)  Premium Gasoline          6    3.5   \n",
       "\n",
       "   ...  pv4     city    UCity  highway  UHighway     comb  co2  feScore  \\\n",
       "0  ...    0  16.4596  20.2988  22.5568   30.1798  18.7389  471        4   \n",
       "1  ...    0  21.8706  26.9770  31.0367   42.4936  25.2227  349        6   \n",
       "2  ...    0  17.4935  21.2000  26.5716   35.1000  20.6716  429        5   \n",
       "3  ...    0  16.9415  20.5000  25.2190   33.5000  19.8774  446        5   \n",
       "4  ...   95  24.7726  31.9796  35.5340   51.8816  28.6813  310        8   \n",
       "5  ...   99  19.4325  24.1499  28.2234   38.5000  22.6002  393        6   \n",
       "\n",
       "   ghgScore  trans_type  \n",
       "0         4   Automatic  \n",
       "1         6   Automatic  \n",
       "2         5   Automatic  \n",
       "3         5   Automatic  \n",
       "4         8   Automatic  \n",
       "5         6   Automatic  \n",
       "\n",
       "[6 rows x 21 columns]"
      ]
     },
     "execution_count": 5,
     "metadata": {},
     "output_type": "execute_result"
    }
   ],
   "source": [
    "print(fuel_econ.shape)\n",
    "fuel_econ.head(6)"
   ]
  },
  {
   "cell_type": "code",
   "execution_count": 6,
   "id": "honey-sheep",
   "metadata": {},
   "outputs": [],
   "source": [
    "np.random.seed(2018)\n",
    "sample = np.random.choice(fuel_econ.shape[0], 200, replace=False)\n",
    "fuel_econ_subset = fuel_econ.loc[sample]"
   ]
  },
  {
   "cell_type": "markdown",
   "id": "entertaining-dress",
   "metadata": {},
   "source": [
    "## By Shape"
   ]
  },
  {
   "cell_type": "code",
   "execution_count": 12,
   "id": "posted-rates",
   "metadata": {},
   "outputs": [
    {
     "data": {
      "text/plain": [
       "<matplotlib.legend.Legend at 0x7f583a548af0>"
      ]
     },
     "execution_count": 12,
     "metadata": {},
     "output_type": "execute_result"
    },
    {
     "data": {
      "image/png": "[encoded data removed]",
      "text/plain": [
       "<Figure size 432x288 with 1 Axes>"
      ]
     },
     "metadata": {
      "needs_background": "light"
     },
     "output_type": "display_data"
    }
   ],
   "source": [
    "# Seaborn regplot only admit marker as a string, so is required loop through the types and assing the correct marker\n",
    "ttype_markers = [['Automatic', 'o'],\n",
    "                 ['Manual', '^']]\n",
    "\n",
    "for ttype, marker in ttype_markers:\n",
    "    plot_data = fuel_econ_subset.loc[fuel_econ_subset['trans_type'] == ttype]\n",
    "    sb.regplot(data=plot_data, x='displ', y='comb', x_jitter=0.04, fit_reg=False, marker=marker)\n",
    "    \n",
    "plt.xlabel('Displacement (l)')\n",
    "plt.ylabel('Combined Fuel Eff. (mpg)')\n",
    "plt.legend(['Automatic', 'Manual'])"
   ]
  },
  {
   "cell_type": "markdown",
   "id": "helpful-payment",
   "metadata": {},
   "source": [
    "## By Size"
   ]
  },
  {
   "cell_type": "code",
   "execution_count": 16,
   "id": "psychological-guest",
   "metadata": {},
   "outputs": [
    {
     "data": {
      "image/png": "[encoded data removed]",
      "text/plain": [
       "<Figure size 432x288 with 1 Axes>"
      ]
     },
     "metadata": {
      "needs_background": "light"
     },
     "output_type": "display_data"
    }
   ],
   "source": [
    "sb.regplot(data=fuel_econ_subset, x='displ', y='comb', x_jitter=0.04, \n",
    "           fit_reg=False, scatter_kws = {'s': fuel_econ_subset['co2']/2})\n",
    "    \n",
    "plt.xlabel('Displacement (l)')\n",
    "plt.ylabel('Combined Fuel Eff. (mpg)')\n",
    "\n",
    "sizes = [200, 350, 500]\n",
    "base_color = sb.color_palette()[0]\n",
    "legends = []\n",
    "\n",
    "for size in sizes:\n",
    "    legends.append(plt.scatter([], [], s=size/2, color=base_color))\n",
    "    \n",
    "plt.legend(legends, sizes, title='CO2 (g/mi)');"
   ]
  }
 ],
 "metadata": {
  "kernelspec": {
   "display_name": "Python [conda env:root] *",
   "language": "python",
   "name": "conda-root-py"
  },
  "language_info": {
   "codemirror_mode": {
    "name": "ipython",
    "version": 3
   },
   "file_extension": ".py",
   "mimetype": "text/x-python",
   "name": "python",
   "nbconvert_exporter": "python",
   "pygments_lexer": "ipython3",
   "version": "3.8.5"
  }
 },
 "nbformat": 4,
 "nbformat_minor": 5
}
